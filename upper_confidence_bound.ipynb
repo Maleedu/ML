{
  "nbformat": 4,
  "nbformat_minor": 0,
  "metadata": {
    "colab": {
      "name": "Copy of upper_confidence_bound.ipynb",
      "provenance": [],
      "collapsed_sections": [],
      "toc_visible": true,
      "include_colab_link": true
    },
    "kernelspec": {
      "name": "python3",
      "display_name": "Python 3"
    }
  },
  "cells": [
    {
      "cell_type": "markdown",
      "metadata": {
        "id": "view-in-github",
        "colab_type": "text"
      },
      "source": [
        "<a href=\"https://colab.research.google.com/github/Maleedu/ML/blob/main/upper_confidence_bound.ipynb\" target=\"_parent\"><img src=\"https://colab.research.google.com/assets/colab-badge.svg\" alt=\"Open In Colab\"/></a>"
      ]
    },
    {
      "cell_type": "markdown",
      "metadata": {
        "id": "QJdrJJQUv3-k"
      },
      "source": [
        "# Upper Confidence Bound (UCB)"
      ]
    },
    {
      "cell_type": "markdown",
      "metadata": {
        "id": "2XCjepjJwEv-"
      },
      "source": [
        "## Importing the libraries"
      ]
    },
    {
      "cell_type": "code",
      "metadata": {
        "id": "rnOvYaB5vpj-"
      },
      "source": [
        "import numpy as np\r\n",
        "import pandas as pd\r\n",
        "import matplotlib.pyplot as plt\r\n",
        "import math"
      ],
      "execution_count": 2,
      "outputs": []
    },
    {
      "cell_type": "markdown",
      "metadata": {
        "id": "npqlXjaNwYTv"
      },
      "source": [
        "## Importing the dataset"
      ]
    },
    {
      "cell_type": "code",
      "metadata": {
        "id": "xpIoyuEFwAGr"
      },
      "source": [
        "dataset = pd.read_csv('Ads_CTR_Optimisation.csv')"
      ],
      "execution_count": 3,
      "outputs": []
    },
    {
      "cell_type": "markdown",
      "metadata": {
        "id": "PaSbots_wfoB"
      },
      "source": [
        "## Implementing UCB"
      ]
    },
    {
      "cell_type": "code",
      "metadata": {
        "id": "veanttl7wURR"
      },
      "source": [
        "N = 10000\r\n",
        "d = 10\r\n",
        "ads_selected = []\r\n",
        "number_of_selections = [0]*d\r\n",
        "sum_of_rewards = [0]*d\r\n",
        "total_reward = 0\r\n",
        "for n in range(0,N):\r\n",
        "  ad = 0\r\n",
        "  max_upper_bound = 0\r\n",
        "  for i in range(0,d):\r\n",
        "    if (number_of_selections[i]> 0):\r\n",
        "      average_reward = sum_of_rewards[i]/number_of_selections[i]\r\n",
        "      delta_i = math.sqrt(3/2 * math.log(n+1)/number_of_selections[i])\r\n",
        "      upper_bound = average_reward + delta_i\r\n",
        "    else:\r\n",
        "      upper_bound = 1e400\r\n",
        "    if (upper_bound > max_upper_bound):\r\n",
        "      max_upper_bound = upper_bound\r\n",
        "      ad = i\r\n",
        "    ads_selected.append(ad)\r\n",
        "    number_of_selections[ad]=number_of_selections[ad]+1\r\n",
        "    reward = dataset.values[n, ad]\r\n",
        "    sum_of_rewards[ad] = sum_of_rewards[ad] + reward\r\n",
        "    total_reward = total_reward + reward"
      ],
      "execution_count": 5,
      "outputs": []
    },
    {
      "cell_type": "markdown",
      "metadata": {
        "id": "AXftWcjDwsYj"
      },
      "source": [
        "## Visualising the results"
      ]
    },
    {
      "cell_type": "code",
      "metadata": {
        "colab": {
          "base_uri": "https://localhost:8080/",
          "height": 295
        },
        "id": "L3eFUomp03gU",
        "outputId": "6635cba3-04a2-4cb9-fa63-2360065e5ed9"
      },
      "source": [
        "plt.hist(ads_selected)\r\n",
        "plt.title('Histogram of ads selected')\r\n",
        "plt.xlabel('ads')\r\n",
        "plt.ylabel('Number of times ads are selected')\r\n",
        "plt.show()"
      ],
      "execution_count": 6,
      "outputs": [
        {
          "output_type": "display_data",
          "data": {
            "image/png": "[encoded data removed]",
            "text/plain": [
              "<Figure size 432x288 with 1 Axes>"
            ]
          },
          "metadata": {
            "tags": [],
            "needs_background": "light"
          }
        }
      ]
    }
  ]
}