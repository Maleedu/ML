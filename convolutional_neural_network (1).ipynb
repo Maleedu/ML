{
 "cells": [
  {
   "cell_type": "markdown",
   "metadata": {
    "colab_type": "text",
    "id": "3DR-eO17geWu"
   },
   "source": [
    "# Convolutional Neural Network"
   ]
  },
  {
   "cell_type": "markdown",
   "metadata": {
    "colab_type": "text",
    "id": "EMefrVPCg-60"
   },
   "source": [
    "### Importing the libraries"
   ]
  },
  {
   "cell_type": "code",
   "execution_count": 1,
   "metadata": {
    "colab": {},
    "colab_type": "code",
    "id": "sCV30xyVhFbE"
   },
   "outputs": [
    {
     "name": "stderr",
     "output_type": "stream",
     "text": [
      "Using TensorFlow backend.\n"
     ]
    }
   ],
   "source": [
    "import tensorflow as tf\n",
    "from keras.preprocessing.image import ImageDataGenerator"
   ]
  },
  {
   "cell_type": "code",
   "execution_count": 2,
   "metadata": {
    "colab": {},
    "colab_type": "code",
    "id": "FIleuCAjoFD8"
   },
   "outputs": [
    {
     "data": {
      "text/plain": [
       "'2.1.0'"
      ]
     },
     "execution_count": 2,
     "metadata": {},
     "output_type": "execute_result"
    }
   ],
   "source": [
    "tf.__version__"
   ]
  },
  {
   "cell_type": "markdown",
   "metadata": {
    "colab_type": "text",
    "id": "oxQxCBWyoGPE"
   },
   "source": [
    "## Part 1 - Data Preprocessing"
   ]
  },
  {
   "cell_type": "markdown",
   "metadata": {
    "colab_type": "text",
    "id": "MvE-heJNo3GG"
   },
   "source": [
    "### Preprocessing the Training set"
   ]
  },
  {
   "cell_type": "code",
   "execution_count": 3,
   "metadata": {
    "colab": {},
    "colab_type": "code",
    "id": "0koUcJMJpEBD"
   },
   "outputs": [
    {
     "name": "stdout",
     "output_type": "stream",
     "text": [
      "Found 8000 images belonging to 2 classes.\n"
     ]
    }
   ],
   "source": [
    "train_datagen = ImageDataGenerator(rescale = 1./255,\n",
    "                                   shear_range = 0.2,\n",
    "                                   zoom_range = 0.2,\n",
    "                                   horizontal_flip = True)\n",
    "training_set = train_datagen.flow_from_directory('dataset/training_set',\n",
    "                                                 target_size = (64, 64),\n",
    "                                                 batch_size = 32,\n",
    "                                                 class_mode = 'binary')"
   ]
  },
  {
   "cell_type": "markdown",
   "metadata": {
    "colab_type": "text",
    "id": "mrCMmGw9pHys"
   },
   "source": [
    "### Preprocessing the Test set"
   ]
  },
  {
   "cell_type": "code",
   "execution_count": 4,
   "metadata": {
    "colab": {},
    "colab_type": "code",
    "id": "SH4WzfOhpKc3"
   },
   "outputs": [
    {
     "name": "stdout",
     "output_type": "stream",
     "text": [
      "Found 2000 images belonging to 3 classes.\n"
     ]
    }
   ],
   "source": [
    "test_datagen = ImageDataGenerator(rescale = 1./255)\n",
    "test_set = test_datagen.flow_from_directory('dataset/test_set',\n",
    "                                            target_size = (64, 64),\n",
    "                                            batch_size = 32,\n",
    "                                            class_mode = 'binary')"
   ]
  },
  {
   "cell_type": "markdown",
   "metadata": {
    "colab_type": "text",
    "id": "af8O4l90gk7B"
   },
   "source": [
    "## Part 2 - Building the CNN"
   ]
  },
  {
   "cell_type": "markdown",
   "metadata": {
    "colab_type": "text",
    "id": "ces1gXY2lmoX"
   },
   "source": [
    "### Initialising the CNN"
   ]
  },
  {
   "cell_type": "code",
   "execution_count": 5,
   "metadata": {
    "colab": {},
    "colab_type": "code",
    "id": "SAUt4UMPlhLS"
   },
   "outputs": [],
   "source": [
    "cnn = tf.keras.models.Sequential()"
   ]
  },
  {
   "cell_type": "markdown",
   "metadata": {
    "colab_type": "text",
    "id": "u5YJj_XMl5LF"
   },
   "source": [
    "### Step 1 - Convolution"
   ]
  },
  {
   "cell_type": "code",
   "execution_count": 6,
   "metadata": {
    "colab": {},
    "colab_type": "code",
    "id": "XPzPrMckl-hV"
   },
   "outputs": [],
   "source": [
    "cnn.add(tf.keras.layers.Conv2D(filters=32, kernel_size=3, activation='relu', input_shape=[64, 64, 3]))"
   ]
  },
  {
   "cell_type": "markdown",
   "metadata": {
    "colab_type": "text",
    "id": "tf87FpvxmNOJ"
   },
   "source": [
    "### Step 2 - Pooling"
   ]
  },
  {
   "cell_type": "code",
   "execution_count": 7,
   "metadata": {
    "colab": {},
    "colab_type": "code",
    "id": "ncpqPl69mOac"
   },
   "outputs": [],
   "source": [
    "cnn.add(tf.keras.layers.MaxPool2D(pool_size=2, strides=2))"
   ]
  },
  {
   "cell_type": "markdown",
   "metadata": {
    "colab_type": "text",
    "id": "xaTOgD8rm4mU"
   },
   "source": [
    "### Adding a second convolutional layer"
   ]
  },
  {
   "cell_type": "code",
   "execution_count": 8,
   "metadata": {
    "colab": {},
    "colab_type": "code",
    "id": "i_-FZjn_m8gk"
   },
   "outputs": [],
   "source": [
    "cnn.add(tf.keras.layers.Conv2D(filters=32, kernel_size=3, activation='relu'))\n",
    "cnn.add(tf.keras.layers.MaxPool2D(pool_size=2, strides=2))"
   ]
  },
  {
   "cell_type": "markdown",
   "metadata": {
    "colab_type": "text",
    "id": "tmiEuvTunKfk"
   },
   "source": [
    "### Step 3 - Flattening"
   ]
  },
  {
   "cell_type": "code",
   "execution_count": 9,
   "metadata": {
    "colab": {},
    "colab_type": "code",
    "id": "6AZeOGCvnNZn"
   },
   "outputs": [],
   "source": [
    "cnn.add(tf.keras.layers.Flatten())"
   ]
  },
  {
   "cell_type": "markdown",
   "metadata": {
    "colab_type": "text",
    "id": "dAoSECOm203v"
   },
   "source": [
    "### Step 4 - Full Connection"
   ]
  },
  {
   "cell_type": "code",
   "execution_count": 10,
   "metadata": {
    "colab": {},
    "colab_type": "code",
    "id": "8GtmUlLd26Nq"
   },
   "outputs": [],
   "source": [
    "cnn.add(tf.keras.layers.Dense(units=128, activation='relu'))"
   ]
  },
  {
   "cell_type": "markdown",
   "metadata": {
    "colab_type": "text",
    "id": "yTldFvbX28Na"
   },
   "source": [
    "### Step 5 - Output Layer"
   ]
  },
  {
   "cell_type": "code",
   "execution_count": 11,
   "metadata": {
    "colab": {},
    "colab_type": "code",
    "id": "1p_Zj1Mc3Ko_"
   },
   "outputs": [],
   "source": [
    "cnn.add(tf.keras.layers.Dense(units=1, activation='sigmoid'))"
   ]
  },
  {
   "cell_type": "markdown",
   "metadata": {
    "colab_type": "text",
    "id": "D6XkI90snSDl"
   },
   "source": [
    "## Part 3 - Training the CNN"
   ]
  },
  {
   "cell_type": "markdown",
   "metadata": {
    "colab_type": "text",
    "id": "vfrFQACEnc6i"
   },
   "source": [
    "### Compiling the CNN"
   ]
  },
  {
   "cell_type": "code",
   "execution_count": 12,
   "metadata": {
    "colab": {},
    "colab_type": "code",
    "id": "NALksrNQpUlJ"
   },
   "outputs": [],
   "source": [
    "cnn.compile(optimizer = 'adam', loss = 'binary_crossentropy', metrics = ['accuracy'])"
   ]
  },
  {
   "cell_type": "markdown",
   "metadata": {
    "colab_type": "text",
    "id": "ehS-v3MIpX2h"
   },
   "source": [
    "### Training the CNN on the Training set and evaluating it on the Test set"
   ]
  },
  {
   "cell_type": "code",
   "execution_count": 13,
   "metadata": {
    "colab": {},
    "colab_type": "code",
    "id": "XUj1W4PJptta"
   },
   "outputs": [
    {
     "name": "stdout",
     "output_type": "stream",
     "text": [
      "WARNING:tensorflow:sample_weight modes were coerced from\n",
      "  ...\n",
      "    to  \n",
      "  ['...']\n",
      "WARNING:tensorflow:sample_weight modes were coerced from\n",
      "  ...\n",
      "    to  \n",
      "  ['...']\n",
      "Train for 250 steps, validate for 63 steps\n",
      "Epoch 1/25\n",
      "250/250 [==============================] - 166s 664ms/step - loss: 0.6682 - accuracy: 0.5870 - val_loss: 0.1810 - val_accuracy: 0.2930\n",
      "Epoch 2/25\n",
      "250/250 [==============================] - 82s 330ms/step - loss: 0.6008 - accuracy: 0.6795 - val_loss: -0.0025 - val_accuracy: 0.2240\n",
      "Epoch 3/25\n",
      "250/250 [==============================] - 84s 334ms/step - loss: 0.5615 - accuracy: 0.7060 - val_loss: 0.0596 - val_accuracy: 0.1720\n",
      "Epoch 4/25\n",
      "250/250 [==============================] - 83s 332ms/step - loss: 0.5216 - accuracy: 0.7408 - val_loss: 0.0676 - val_accuracy: 0.1550\n",
      "Epoch 5/25\n",
      "250/250 [==============================] - 84s 334ms/step - loss: 0.5035 - accuracy: 0.7500 - val_loss: -0.1550 - val_accuracy: 0.1665\n",
      "Epoch 6/25\n",
      "250/250 [==============================] - 82s 328ms/step - loss: 0.4804 - accuracy: 0.7656 - val_loss: 0.4239 - val_accuracy: 0.1025\n",
      "Epoch 7/25\n",
      "250/250 [==============================] - 83s 331ms/step - loss: 0.4615 - accuracy: 0.7806 - val_loss: 0.0144 - val_accuracy: 0.1415\n",
      "Epoch 8/25\n",
      "250/250 [==============================] - 82s 327ms/step - loss: 0.4436 - accuracy: 0.7918 - val_loss: 0.0520 - val_accuracy: 0.1305\n",
      "Epoch 9/25\n",
      "250/250 [==============================] - 84s 335ms/step - loss: 0.4426 - accuracy: 0.7904 - val_loss: 0.7335 - val_accuracy: 0.0770\n",
      "Epoch 10/25\n",
      "250/250 [==============================] - 82s 330ms/step - loss: 0.4222 - accuracy: 0.8027 - val_loss: -0.6475 - val_accuracy: 0.1910\n",
      "Epoch 11/25\n",
      "250/250 [==============================] - 83s 330ms/step - loss: 0.4034 - accuracy: 0.8160 - val_loss: -0.5175 - val_accuracy: 0.1880\n",
      "Epoch 12/25\n",
      "250/250 [==============================] - 84s 334ms/step - loss: 0.3992 - accuracy: 0.8219 - val_loss: -0.4608 - val_accuracy: 0.1655\n",
      "Epoch 13/25\n",
      "250/250 [==============================] - 84s 337ms/step - loss: 0.3895 - accuracy: 0.8192 - val_loss: 0.2617 - val_accuracy: 0.1165\n",
      "Epoch 14/25\n",
      "250/250 [==============================] - 85s 339ms/step - loss: 0.3689 - accuracy: 0.8328 - val_loss: 0.4803 - val_accuracy: 0.0905\n",
      "Epoch 15/25\n",
      "250/250 [==============================] - 85s 339ms/step - loss: 0.3456 - accuracy: 0.8454 - val_loss: 0.4517 - val_accuracy: 0.0925\n",
      "Epoch 16/25\n",
      "250/250 [==============================] - 84s 334ms/step - loss: 0.3356 - accuracy: 0.8505 - val_loss: -0.7670 - val_accuracy: 0.1705\n",
      "Epoch 17/25\n",
      "250/250 [==============================] - 85s 338ms/step - loss: 0.3243 - accuracy: 0.8589 - val_loss: 0.0590 - val_accuracy: 0.1220\n",
      "Epoch 18/25\n",
      "250/250 [==============================] - 84s 335ms/step - loss: 0.3210 - accuracy: 0.8586 - val_loss: -0.2047 - val_accuracy: 0.1200\n",
      "Epoch 19/25\n",
      "250/250 [==============================] - 84s 337ms/step - loss: 0.2923 - accuracy: 0.8729 - val_loss: -0.2591 - val_accuracy: 0.1395\n",
      "Epoch 20/25\n",
      "250/250 [==============================] - 84s 335ms/step - loss: 0.2789 - accuracy: 0.8816 - val_loss: -0.1679 - val_accuracy: 0.1375\n",
      "Epoch 21/25\n",
      "250/250 [==============================] - 84s 337ms/step - loss: 0.2699 - accuracy: 0.8906 - val_loss: 0.0785 - val_accuracy: 0.1230\n",
      "Epoch 22/25\n",
      "250/250 [==============================] - 84s 334ms/step - loss: 0.2553 - accuracy: 0.8881 - val_loss: 0.2476 - val_accuracy: 0.1055\n",
      "Epoch 23/25\n",
      "250/250 [==============================] - 84s 338ms/step - loss: 0.2482 - accuracy: 0.8947 - val_loss: 0.4825 - val_accuracy: 0.1040\n",
      "Epoch 24/25\n",
      "250/250 [==============================] - 85s 338ms/step - loss: 0.2363 - accuracy: 0.9019 - val_loss: 0.3673 - val_accuracy: 0.1025\n",
      "Epoch 25/25\n",
      "250/250 [==============================] - 84s 336ms/step - loss: 0.2299 - accuracy: 0.9069 - val_loss: -0.7579 - val_accuracy: 0.1485\n"
     ]
    },
    {
     "data": {
      "text/plain": [
       "<tensorflow.python.keras.callbacks.History at 0x27c43296ec8>"
      ]
     },
     "execution_count": 13,
     "metadata": {},
     "output_type": "execute_result"
    }
   ],
   "source": [
    "cnn.fit(x = training_set, validation_data = test_set, epochs = 25)"
   ]
  },
  {
   "cell_type": "markdown",
   "metadata": {
    "colab_type": "text",
    "id": "U3PZasO0006Z"
   },
   "source": [
    "## Part 4 - Making a single prediction"
   ]
  },
  {
   "cell_type": "code",
   "execution_count": 14,
   "metadata": {
    "colab": {},
    "colab_type": "code",
    "id": "gsSiWEJY1BPB"
   },
   "outputs": [],
   "source": [
    "import numpy as np\n",
    "from keras.preprocessing import image\n",
    "test_image = image.load_img('dataset/single_prediction/cat_or_dog_1.jpg', target_size = (64, 64))\n",
    "test_image = image.img_to_array(test_image)\n",
    "test_image = np.expand_dims(test_image, axis = 0)\n",
    "result = cnn.predict(test_image)\n",
    "training_set.class_indices\n",
    "if result[0][0] == 1:\n",
    "  prediction = 'dog'\n",
    "else:\n",
    "  prediction = 'cat'"
   ]
  },
  {
   "cell_type": "code",
   "execution_count": 15,
   "metadata": {
    "colab": {},
    "colab_type": "code",
    "id": "ED9KB3I54c1i"
   },
   "outputs": [
    {
     "name": "stdout",
     "output_type": "stream",
     "text": [
      "dog\n"
     ]
    }
   ],
   "source": [
    "print(prediction)"
   ]
  }
 ],
 "metadata": {
  "colab": {
   "collapsed_sections": [],
   "name": "convolutional_neural_network.ipynb",
   "provenance": [],
   "toc_visible": true
  },
  "kernelspec": {
   "display_name": "Python 3",
   "language": "python",
   "name": "python3"
  },
  "language_info": {
   "codemirror_mode": {
    "name": "ipython",
    "version": 3
   },
   "file_extension": ".py",
   "mimetype": "text/x-python",
   "name": "python",
   "nbconvert_exporter": "python",
   "pygments_lexer": "ipython3",
   "version": "3.7.4"
  }
 },
 "nbformat": 4,
 "nbformat_minor": 1
}
